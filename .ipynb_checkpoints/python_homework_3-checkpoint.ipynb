{
 "cells": [
  {
   "cell_type": "code",
   "execution_count": 1,
   "id": "4e0d1414",
   "metadata": {},
   "outputs": [],
   "source": [
    "from IPython.display import clear_output\n",
    "#Build a Shopping Cart\n",
    "#You can use either lists or dictionaries. The program should have the following capabilities:\n",
    "\n",
    "#1) Takes in input\n",
    "#2) Stores user input into a dictionary or list\n",
    "#3) The User can add or delete items\n",
    "#4) The User can see current shopping list\n",
    "#5) The program Loops until user 'quits'\n",
    "#6) Upon quiting the program, print out all items in the user's list\n",
    "# Ask the user four bits of input: Do you want to : Show/Add/Delete or Quit?\n",
    "def shopping_cart():\n",
    "    cart = {}\n",
    "    count = 0\n",
    "    key = 1\n",
    "    print(\"Welcome Kwik-Trip, your local neighborhood convenience store online!\")\n",
    "    while True:\n",
    "        action = (input(\"Do you want to: Show/Add/Delete/Checkout or Quit?\")).title().strip()\n",
    "        if action == \"Add\":\n",
    "            cart[key] = (input(\"What did you need today?\")).title().strip()\n",
    "            count += 1\n",
    "            key += 1\n",
    "        elif action.title() == \"Show\":\n",
    "            for value in cart.values():\n",
    "                print(value.title())\n",
    "            print(f\"You have {str(count)} items in you cart.\")\n",
    "        elif action.title() == \"Delete\":\n",
    "            remove = (input(\"What item did want to return?\")).title().strip()\n",
    "            if remove in cart.values():\n",
    "                sorted_cart = sorted(cart.items())\n",
    "                for item in sorted_cart:\n",
    "                    if item[1] == remove.title():\n",
    "                        index = item[0]\n",
    "                        print(f\"Okay, I'll go ahead and put that {cart[index]} back for you.\")\n",
    "                        del cart[index]\n",
    "                        count -= 1\n",
    "            else:\n",
    "                print(\"Hmmm. I don't see that item in your cart.\")\n",
    "        elif action.title() == \"Quit\" and len(cart) > 0:\n",
    "            confirm = (input(\"Looks like you left some items in your cart. Are you sure you want to quit? (Y/N)\")).upper().strip()\n",
    "            if confirm == \"N\":\n",
    "                continue\n",
    "            elif confirm == \"Y\":\n",
    "                print(\"We'll hold onto these items in case you change your mind.\")\n",
    "                sorted_cart = sorted(cart.items())\n",
    "                for item in sorted_cart:\n",
    "                    print(item[1])\n",
    "                print(\"Thanks for stopping by.\")\n",
    "                return\n",
    "        elif action.title() == \"Quit\" and len(cart) == 0:\n",
    "            print(\"Thanks for stopping by.\")\n",
    "            return\n",
    "        elif action.title() == \"Checkout\":\n",
    "            print(\"Here is your receipt.\")\n",
    "            sorted_cart = sorted(cart.items())\n",
    "            for item in sorted_cart:\n",
    "                print(item[1])\n",
    "            print(\"Thanks for stopping by.\")\n",
    "            return\n",
    "        else:\n",
    "            print(\"You did not enter a correct command.\")\n",
    "shopping_cart()        "
   ]
  },
  {
   "cell_type": "code",
   "execution_count": 2,
   "id": "75ac41e7",
   "metadata": {},
   "outputs": [
    {
     "data": {
      "text/plain": [
       "4"
      ]
     },
     "execution_count": 2,
     "metadata": {},
     "output_type": "execute_result"
    }
   ],
   "source": [
    "import my_modules\n",
    "print(my_modules.area(2,2))\n",
    "print(my_modules.circumference(2))"
   ]
  },
  {
   "cell_type": "code",
   "execution_count": 4,
   "id": "8ac06c30",
   "metadata": {},
   "outputs": [
    {
     "data": {
      "text/plain": [
       "12.6"
      ]
     },
     "execution_count": 4,
     "metadata": {},
     "output_type": "execute_result"
    }
   ],
   "source": []
  },
  {
   "cell_type": "code",
   "execution_count": null,
   "id": "93673d09",
   "metadata": {},
   "outputs": [],
   "source": []
  }
 ],
 "metadata": {
  "kernelspec": {
   "display_name": "Python 3 (ipykernel)",
   "language": "python",
   "name": "python3"
  },
  "language_info": {
   "codemirror_mode": {
    "name": "ipython",
    "version": 3
   },
   "file_extension": ".py",
   "mimetype": "text/x-python",
   "name": "python",
   "nbconvert_exporter": "python",
   "pygments_lexer": "ipython3",
   "version": "3.9.12"
  }
 },
 "nbformat": 4,
 "nbformat_minor": 5
}
